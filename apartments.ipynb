{
 "cells": [
  {
   "attachments": {},
   "cell_type": "markdown",
   "metadata": {},
   "source": [
    "## <span style=\"color: violet;\">Apartments Prices in Kenya</span>"
   ]
  },
  {
   "cell_type": "code",
   "execution_count": 49,
   "metadata": {},
   "outputs": [],
   "source": [
    "import pandas as pd"
   ]
  },
  {
   "cell_type": "code",
   "execution_count": 50,
   "metadata": {},
   "outputs": [
    {
     "data": {
      "text/html": [
       "<div>\n",
       "<style scoped>\n",
       "    .dataframe tbody tr th:only-of-type {\n",
       "        vertical-align: middle;\n",
       "    }\n",
       "\n",
       "    .dataframe tbody tr th {\n",
       "        vertical-align: top;\n",
       "    }\n",
       "\n",
       "    .dataframe thead th {\n",
       "        text-align: right;\n",
       "    }\n",
       "</style>\n",
       "<table border=\"1\" class=\"dataframe\">\n",
       "  <thead>\n",
       "    <tr style=\"text-align: right;\">\n",
       "      <th></th>\n",
       "      <th>title</th>\n",
       "      <th>location</th>\n",
       "      <th>bedrooms</th>\n",
       "      <th>bathrooms</th>\n",
       "      <th>price</th>\n",
       "      <th>rate</th>\n",
       "    </tr>\n",
       "  </thead>\n",
       "  <tbody>\n",
       "    <tr>\n",
       "      <th>0</th>\n",
       "      <td>3 Bedroom Apartment / Flat to rent in Riverside</td>\n",
       "      <td>Riverside Dr Nairobi, Riverside, Nairobi</td>\n",
       "      <td>3</td>\n",
       "      <td>3</td>\n",
       "      <td>200 000</td>\n",
       "      <td>Per Month</td>\n",
       "    </tr>\n",
       "    <tr>\n",
       "      <th>1</th>\n",
       "      <td>3 Bedroom Apartment / Flat to rent in Kileleshwa</td>\n",
       "      <td>Kileleshwa, Nairobi</td>\n",
       "      <td>3</td>\n",
       "      <td>4</td>\n",
       "      <td>70 000</td>\n",
       "      <td>Per Month</td>\n",
       "    </tr>\n",
       "    <tr>\n",
       "      <th>2</th>\n",
       "      <td>3 Bedroom Apartment / Flat to rent in Nyali</td>\n",
       "      <td>Links Rd Mombasa, Nyali, Mombasa</td>\n",
       "      <td>3</td>\n",
       "      <td>2</td>\n",
       "      <td>38 000</td>\n",
       "      <td>Per Month</td>\n",
       "    </tr>\n",
       "    <tr>\n",
       "      <th>3</th>\n",
       "      <td>3 Bedroom Apartment / Flat to rent in Lavington</td>\n",
       "      <td>Near Valley Arcade, Lavington, Nairobi</td>\n",
       "      <td>3</td>\n",
       "      <td>3</td>\n",
       "      <td>80 000</td>\n",
       "      <td>Per Month</td>\n",
       "    </tr>\n",
       "    <tr>\n",
       "      <th>4</th>\n",
       "      <td>1 Bedroom Apartment / Flat to rent in Kileleshwa</td>\n",
       "      <td>Kileleshwa, Nairobi</td>\n",
       "      <td>1</td>\n",
       "      <td>1</td>\n",
       "      <td>110 000</td>\n",
       "      <td>Per Month</td>\n",
       "    </tr>\n",
       "  </tbody>\n",
       "</table>\n",
       "</div>"
      ],
      "text/plain": [
       "                                              title  \\\n",
       "0   3 Bedroom Apartment / Flat to rent in Riverside   \n",
       "1  3 Bedroom Apartment / Flat to rent in Kileleshwa   \n",
       "2       3 Bedroom Apartment / Flat to rent in Nyali   \n",
       "3   3 Bedroom Apartment / Flat to rent in Lavington   \n",
       "4  1 Bedroom Apartment / Flat to rent in Kileleshwa   \n",
       "\n",
       "                                   location  bedrooms  bathrooms     price  \\\n",
       "0  Riverside Dr Nairobi, Riverside, Nairobi         3          3   200 000   \n",
       "1                       Kileleshwa, Nairobi         3          4    70 000   \n",
       "2          Links Rd Mombasa, Nyali, Mombasa         3          2    38 000   \n",
       "3    Near Valley Arcade, Lavington, Nairobi         3          3    80 000   \n",
       "4                       Kileleshwa, Nairobi         1          1   110 000   \n",
       "\n",
       "        rate  \n",
       "0  Per Month  \n",
       "1  Per Month  \n",
       "2  Per Month  \n",
       "3  Per Month  \n",
       "4  Per Month  "
      ]
     },
     "execution_count": 50,
     "metadata": {},
     "output_type": "execute_result"
    }
   ],
   "source": [
    "apartment = pd.read_csv('data/apartments.csv', index_col=[0])\n",
    "apartment.head(5)"
   ]
  },
  {
   "cell_type": "code",
   "execution_count": 51,
   "metadata": {},
   "outputs": [
    {
     "data": {
      "text/plain": [
       "(2520, 6)"
      ]
     },
     "execution_count": 51,
     "metadata": {},
     "output_type": "execute_result"
    }
   ],
   "source": [
    "apartment.shape"
   ]
  },
  {
   "cell_type": "code",
   "execution_count": 52,
   "metadata": {},
   "outputs": [
    {
     "data": {
      "text/plain": [
       "Index(['title', 'location', 'bedrooms', 'bathrooms', 'price', 'rate'], dtype='object')"
      ]
     },
     "execution_count": 52,
     "metadata": {},
     "output_type": "execute_result"
    }
   ],
   "source": [
    "apartment.columns"
   ]
  },
  {
   "cell_type": "code",
   "execution_count": 53,
   "metadata": {},
   "outputs": [
    {
     "data": {
      "text/html": [
       "<div>\n",
       "<style scoped>\n",
       "    .dataframe tbody tr th:only-of-type {\n",
       "        vertical-align: middle;\n",
       "    }\n",
       "\n",
       "    .dataframe tbody tr th {\n",
       "        vertical-align: top;\n",
       "    }\n",
       "\n",
       "    .dataframe thead th {\n",
       "        text-align: right;\n",
       "    }\n",
       "</style>\n",
       "<table border=\"1\" class=\"dataframe\">\n",
       "  <thead>\n",
       "    <tr style=\"text-align: right;\">\n",
       "      <th></th>\n",
       "      <th>title</th>\n",
       "      <th>location</th>\n",
       "      <th>bedrooms</th>\n",
       "      <th>bathrooms</th>\n",
       "      <th>price</th>\n",
       "      <th>rate</th>\n",
       "    </tr>\n",
       "  </thead>\n",
       "  <tbody>\n",
       "    <tr>\n",
       "      <th>50</th>\n",
       "      <td>False</td>\n",
       "      <td>False</td>\n",
       "      <td>False</td>\n",
       "      <td>False</td>\n",
       "      <td>False</td>\n",
       "      <td>False</td>\n",
       "    </tr>\n",
       "    <tr>\n",
       "      <th>51</th>\n",
       "      <td>False</td>\n",
       "      <td>False</td>\n",
       "      <td>False</td>\n",
       "      <td>False</td>\n",
       "      <td>False</td>\n",
       "      <td>False</td>\n",
       "    </tr>\n",
       "    <tr>\n",
       "      <th>52</th>\n",
       "      <td>False</td>\n",
       "      <td>False</td>\n",
       "      <td>False</td>\n",
       "      <td>False</td>\n",
       "      <td>False</td>\n",
       "      <td>False</td>\n",
       "    </tr>\n",
       "    <tr>\n",
       "      <th>53</th>\n",
       "      <td>False</td>\n",
       "      <td>False</td>\n",
       "      <td>False</td>\n",
       "      <td>False</td>\n",
       "      <td>False</td>\n",
       "      <td>False</td>\n",
       "    </tr>\n",
       "    <tr>\n",
       "      <th>54</th>\n",
       "      <td>False</td>\n",
       "      <td>False</td>\n",
       "      <td>False</td>\n",
       "      <td>False</td>\n",
       "      <td>False</td>\n",
       "      <td>False</td>\n",
       "    </tr>\n",
       "    <tr>\n",
       "      <th>55</th>\n",
       "      <td>False</td>\n",
       "      <td>False</td>\n",
       "      <td>False</td>\n",
       "      <td>False</td>\n",
       "      <td>False</td>\n",
       "      <td>False</td>\n",
       "    </tr>\n",
       "    <tr>\n",
       "      <th>56</th>\n",
       "      <td>False</td>\n",
       "      <td>False</td>\n",
       "      <td>False</td>\n",
       "      <td>False</td>\n",
       "      <td>False</td>\n",
       "      <td>False</td>\n",
       "    </tr>\n",
       "    <tr>\n",
       "      <th>57</th>\n",
       "      <td>False</td>\n",
       "      <td>True</td>\n",
       "      <td>False</td>\n",
       "      <td>False</td>\n",
       "      <td>False</td>\n",
       "      <td>False</td>\n",
       "    </tr>\n",
       "    <tr>\n",
       "      <th>58</th>\n",
       "      <td>False</td>\n",
       "      <td>False</td>\n",
       "      <td>False</td>\n",
       "      <td>False</td>\n",
       "      <td>False</td>\n",
       "      <td>False</td>\n",
       "    </tr>\n",
       "    <tr>\n",
       "      <th>59</th>\n",
       "      <td>False</td>\n",
       "      <td>False</td>\n",
       "      <td>False</td>\n",
       "      <td>False</td>\n",
       "      <td>False</td>\n",
       "      <td>False</td>\n",
       "    </tr>\n",
       "    <tr>\n",
       "      <th>60</th>\n",
       "      <td>False</td>\n",
       "      <td>True</td>\n",
       "      <td>False</td>\n",
       "      <td>False</td>\n",
       "      <td>False</td>\n",
       "      <td>False</td>\n",
       "    </tr>\n",
       "  </tbody>\n",
       "</table>\n",
       "</div>"
      ],
      "text/plain": [
       "    title  location  bedrooms  bathrooms  price   rate\n",
       "50  False     False     False      False  False  False\n",
       "51  False     False     False      False  False  False\n",
       "52  False     False     False      False  False  False\n",
       "53  False     False     False      False  False  False\n",
       "54  False     False     False      False  False  False\n",
       "55  False     False     False      False  False  False\n",
       "56  False     False     False      False  False  False\n",
       "57  False      True     False      False  False  False\n",
       "58  False     False     False      False  False  False\n",
       "59  False     False     False      False  False  False\n",
       "60  False      True     False      False  False  False"
      ]
     },
     "execution_count": 53,
     "metadata": {},
     "output_type": "execute_result"
    }
   ],
   "source": [
    "apartment.isnull().loc[50:60]"
   ]
  },
  {
   "cell_type": "code",
   "execution_count": 54,
   "metadata": {},
   "outputs": [
    {
     "data": {
      "text/plain": [
       "title          0\n",
       "location     376\n",
       "bedrooms       0\n",
       "bathrooms      0\n",
       "price          0\n",
       "rate           0\n",
       "dtype: int64"
      ]
     },
     "execution_count": 54,
     "metadata": {},
     "output_type": "execute_result"
    }
   ],
   "source": [
    "apartment.isnull().sum()"
   ]
  },
  {
   "cell_type": "code",
   "execution_count": 55,
   "metadata": {},
   "outputs": [
    {
     "data": {
      "text/plain": [
       "title        2520\n",
       "location     2144\n",
       "bedrooms     2520\n",
       "bathrooms    2520\n",
       "price        2520\n",
       "rate         2520\n",
       "dtype: int64"
      ]
     },
     "execution_count": 55,
     "metadata": {},
     "output_type": "execute_result"
    }
   ],
   "source": [
    "apartment.count()"
   ]
  },
  {
   "cell_type": "code",
   "execution_count": null,
   "metadata": {},
   "outputs": [],
   "source": []
  },
  {
   "cell_type": "code",
   "execution_count": 56,
   "metadata": {},
   "outputs": [],
   "source": [
    "import seaborn as sns\n",
    "import matplotlib.pyplot as plt"
   ]
  },
  {
   "cell_type": "code",
   "execution_count": 59,
   "metadata": {},
   "outputs": [
    {
     "data": {
      "image/png": "[encoded data removed]",
      "text/plain": [
       "<Figure size 432x288 with 2 Axes>"
      ]
     },
     "metadata": {
      "needs_background": "light"
     },
     "output_type": "display_data"
    }
   ],
   "source": [
    "#The white parts in the below plot shows the null values and are only in the location colum\n",
    "sns.heatmap(apartment.isnull())\n",
    "plt.show()"
   ]
  },
  {
   "cell_type": "code",
   "execution_count": 72,
   "metadata": {},
   "outputs": [
    {
     "data": {
      "text/plain": [
       "title        object\n",
       "location     object\n",
       "bedrooms      int64\n",
       "bathrooms     int64\n",
       "price        object\n",
       "rate         object\n",
       "dtype: object"
      ]
     },
     "execution_count": 72,
     "metadata": {},
     "output_type": "execute_result"
    }
   ],
   "source": [
    "apartment.dtypes"
   ]
  },
  {
   "cell_type": "code",
   "execution_count": 71,
   "metadata": {},
   "outputs": [
    {
     "data": {
      "text/html": [
       "<div>\n",
       "<style scoped>\n",
       "    .dataframe tbody tr th:only-of-type {\n",
       "        vertical-align: middle;\n",
       "    }\n",
       "\n",
       "    .dataframe tbody tr th {\n",
       "        vertical-align: top;\n",
       "    }\n",
       "\n",
       "    .dataframe thead th {\n",
       "        text-align: right;\n",
       "    }\n",
       "</style>\n",
       "<table border=\"1\" class=\"dataframe\">\n",
       "  <thead>\n",
       "    <tr style=\"text-align: right;\">\n",
       "      <th></th>\n",
       "      <th>title</th>\n",
       "      <th>location</th>\n",
       "      <th>bedrooms</th>\n",
       "      <th>bathrooms</th>\n",
       "      <th>price</th>\n",
       "      <th>rate</th>\n",
       "    </tr>\n",
       "  </thead>\n",
       "  <tbody>\n",
       "    <tr>\n",
       "      <th>4</th>\n",
       "      <td>1 Bedroom Apartment / Flat to rent in Kileleshwa</td>\n",
       "      <td>Kileleshwa, Nairobi</td>\n",
       "      <td>1</td>\n",
       "      <td>1</td>\n",
       "      <td>110 000</td>\n",
       "      <td>Per Month</td>\n",
       "    </tr>\n",
       "    <tr>\n",
       "      <th>8</th>\n",
       "      <td>1 Bedroom Apartment / Flat to rent in Nyali</td>\n",
       "      <td>Nyali, Mombasa</td>\n",
       "      <td>1</td>\n",
       "      <td>1</td>\n",
       "      <td>5 000</td>\n",
       "      <td>Per Day</td>\n",
       "    </tr>\n",
       "    <tr>\n",
       "      <th>10</th>\n",
       "      <td>1 Bedroom Apartment / Flat to rent in Nyali</td>\n",
       "      <td>Nyali, Mombasa</td>\n",
       "      <td>1</td>\n",
       "      <td>1</td>\n",
       "      <td>5 000</td>\n",
       "      <td>Per Day</td>\n",
       "    </tr>\n",
       "    <tr>\n",
       "      <th>13</th>\n",
       "      <td>1 Bedroom Apartment / Flat to rent in Shanzu</td>\n",
       "      <td>Shanzu, Mombasa</td>\n",
       "      <td>1</td>\n",
       "      <td>1</td>\n",
       "      <td>55 000</td>\n",
       "      <td>Per Month</td>\n",
       "    </tr>\n",
       "    <tr>\n",
       "      <th>25</th>\n",
       "      <td>1 Bedroom Apartment / Flat to rent in Kileleshwa</td>\n",
       "      <td>Kileleshwa, Nairobi</td>\n",
       "      <td>1</td>\n",
       "      <td>1</td>\n",
       "      <td>110 000</td>\n",
       "      <td>Per Month</td>\n",
       "    </tr>\n",
       "    <tr>\n",
       "      <th>...</th>\n",
       "      <td>...</td>\n",
       "      <td>...</td>\n",
       "      <td>...</td>\n",
       "      <td>...</td>\n",
       "      <td>...</td>\n",
       "      <td>...</td>\n",
       "    </tr>\n",
       "    <tr>\n",
       "      <th>2488</th>\n",
       "      <td>1 Bedroom Apartment / Flat to rent in Nyali</td>\n",
       "      <td>Nyali, Mombasa</td>\n",
       "      <td>1</td>\n",
       "      <td>1</td>\n",
       "      <td>5 000</td>\n",
       "      <td>Per Day</td>\n",
       "    </tr>\n",
       "    <tr>\n",
       "      <th>2491</th>\n",
       "      <td>1 Bedroom Apartment / Flat to rent in Shanzu</td>\n",
       "      <td>Shanzu, Mombasa</td>\n",
       "      <td>1</td>\n",
       "      <td>1</td>\n",
       "      <td>55 000</td>\n",
       "      <td>Per Month</td>\n",
       "    </tr>\n",
       "    <tr>\n",
       "      <th>2503</th>\n",
       "      <td>1 Bedroom Apartment / Flat to rent in Kileleshwa</td>\n",
       "      <td>Kileleshwa, Nairobi</td>\n",
       "      <td>1</td>\n",
       "      <td>1</td>\n",
       "      <td>110 000</td>\n",
       "      <td>Per Month</td>\n",
       "    </tr>\n",
       "    <tr>\n",
       "      <th>2508</th>\n",
       "      <td>1 Bedroom Apartment / Flat to rent in Nyali</td>\n",
       "      <td>Nyali, Mombasa</td>\n",
       "      <td>1</td>\n",
       "      <td>1</td>\n",
       "      <td>5 000</td>\n",
       "      <td>Per Day</td>\n",
       "    </tr>\n",
       "    <tr>\n",
       "      <th>2511</th>\n",
       "      <td>1 Bedroom Apartment / Flat to rent in Shanzu</td>\n",
       "      <td>Shanzu, Mombasa</td>\n",
       "      <td>1</td>\n",
       "      <td>1</td>\n",
       "      <td>55 000</td>\n",
       "      <td>Per Month</td>\n",
       "    </tr>\n",
       "  </tbody>\n",
       "</table>\n",
       "<p>381 rows × 6 columns</p>\n",
       "</div>"
      ],
      "text/plain": [
       "                                                 title             location  \\\n",
       "4     1 Bedroom Apartment / Flat to rent in Kileleshwa  Kileleshwa, Nairobi   \n",
       "8          1 Bedroom Apartment / Flat to rent in Nyali       Nyali, Mombasa   \n",
       "10         1 Bedroom Apartment / Flat to rent in Nyali       Nyali, Mombasa   \n",
       "13        1 Bedroom Apartment / Flat to rent in Shanzu      Shanzu, Mombasa   \n",
       "25    1 Bedroom Apartment / Flat to rent in Kileleshwa  Kileleshwa, Nairobi   \n",
       "...                                                ...                  ...   \n",
       "2488       1 Bedroom Apartment / Flat to rent in Nyali       Nyali, Mombasa   \n",
       "2491      1 Bedroom Apartment / Flat to rent in Shanzu      Shanzu, Mombasa   \n",
       "2503  1 Bedroom Apartment / Flat to rent in Kileleshwa  Kileleshwa, Nairobi   \n",
       "2508       1 Bedroom Apartment / Flat to rent in Nyali       Nyali, Mombasa   \n",
       "2511      1 Bedroom Apartment / Flat to rent in Shanzu      Shanzu, Mombasa   \n",
       "\n",
       "      bedrooms  bathrooms     price       rate  \n",
       "4            1          1   110 000  Per Month  \n",
       "8            1          1     5 000    Per Day  \n",
       "10           1          1     5 000    Per Day  \n",
       "13           1          1    55 000  Per Month  \n",
       "25           1          1   110 000  Per Month  \n",
       "...        ...        ...       ...        ...  \n",
       "2488         1          1     5 000    Per Day  \n",
       "2491         1          1    55 000  Per Month  \n",
       "2503         1          1   110 000  Per Month  \n",
       "2508         1          1     5 000    Per Day  \n",
       "2511         1          1    55 000  Per Month  \n",
       "\n",
       "[381 rows x 6 columns]"
      ]
     },
     "execution_count": 71,
     "metadata": {},
     "output_type": "execute_result"
    }
   ],
   "source": [
    "df = apartment[apartment.bedrooms == 1]\n",
    "df"
   ]
  },
  {
   "cell_type": "code",
   "execution_count": 74,
   "metadata": {},
   "outputs": [
    {
     "data": {
      "text/plain": [
       "381"
      ]
     },
     "execution_count": 74,
     "metadata": {},
     "output_type": "execute_result"
    }
   ],
   "source": [
    "len(apartment[apartment.bedrooms == 1])"
   ]
  },
  {
   "cell_type": "code",
   "execution_count": 75,
   "metadata": {},
   "outputs": [
    {
     "data": {
      "text/plain": [
       "location\n",
       "Grevillea Grove Spring Valley, Spring Valley, Nairobi      65 000\n",
       "Jabavu court, Kilimani, Nairobi                            80 000\n",
       "Kikuyu Town Bus park Kikuyu, Kikuyu, Kikuyu                55 000\n",
       "Kileleshwa Nairobi, Kileleshwa, Nairobi                    55 000\n",
       "Kileleshwa, Nairobi                                       110 000\n",
       "Kilimani, Nairobi                                          65 000\n",
       "Links Rd Mombasa, Nyali, Mombasa                           38 000\n",
       "Muthaiga, Nairobi                                         300 000\n",
       "Near Valley Arcade, Lavington, Nairobi                     80 000\n",
       "Nyali, Mombasa                                              5 000\n",
       "Off Othaya road, Lavington, Nairobi                       125 000\n",
       "Riverside Dr Nairobi, Riverside, Nairobi                  200 000\n",
       "Shanzu, Mombasa                                            55 000\n",
       "Thika Rd Nairobi, Kahawa Wendani, Nairobi                  57 750\n",
       "Vihiga road, Kileleshwa, Nairobi                          100 000\n",
       "Westlands downtown, Westlands, Nairobi                     75 000\n",
       "Westlands, Nairobi                                        100 000\n",
       "Name: price, dtype: object"
      ]
     },
     "execution_count": 75,
     "metadata": {},
     "output_type": "execute_result"
    }
   ],
   "source": [
    "apartment.groupby('location').price.min()"
   ]
  },
  {
   "cell_type": "code",
   "execution_count": 80,
   "metadata": {},
   "outputs": [
    {
     "data": {
      "text/plain": [
       "rate\n",
       "Per Day        5 000\n",
       "Per Month     80 000\n",
       "Name: price, dtype: object"
      ]
     },
     "execution_count": 80,
     "metadata": {},
     "output_type": "execute_result"
    }
   ],
   "source": [
    "apartment.groupby('rate').price.max()"
   ]
  },
  {
   "cell_type": "code",
   "execution_count": 83,
   "metadata": {},
   "outputs": [
    {
     "data": {
      "text/plain": [
       "rate\n",
       "Per Month     100 000\n",
       "Per Day         5 000\n",
       "Name: price, dtype: object"
      ]
     },
     "execution_count": 83,
     "metadata": {},
     "output_type": "execute_result"
    }
   ],
   "source": [
    "apartment.groupby('rate').price.min().sort_values(ascending=True)"
   ]
  },
  {
   "cell_type": "code",
   "execution_count": 94,
   "metadata": {},
   "outputs": [
    {
     "data": {
      "text/plain": [
       "Westlands, Nairobi                           129\n",
       "Muthaiga, Nairobi                            126\n",
       "Thika Rd Nairobi, Kahawa Wendani, Nairobi    125\n",
       "Name: location, dtype: int64"
      ]
     },
     "execution_count": 94,
     "metadata": {},
     "output_type": "execute_result"
    }
   ],
   "source": [
    "apartment[apartment.bedrooms > 3].location.value_counts()"
   ]
  },
  {
   "cell_type": "code",
   "execution_count": 98,
   "metadata": {},
   "outputs": [
    {
     "data": {
      "text/plain": [
       "Kilimani, Nairobi                                        251\n",
       "Kileleshwa, Nairobi                                      130\n",
       "Kikuyu Town Bus park Kikuyu, Kikuyu, Kikuyu              128\n",
       "Muthaiga, Nairobi                                        126\n",
       "Riverside Dr Nairobi, Riverside, Nairobi                 125\n",
       "Grevillea Grove Spring Valley, Spring Valley, Nairobi    125\n",
       "Vihiga road, Kileleshwa, Nairobi                          56\n",
       "Near Valley Arcade, Lavington, Nairobi                    35\n",
       "Off Othaya road, Lavington, Nairobi                       20\n",
       "Jabavu court, Kilimani, Nairobi                           12\n",
       "Name: location, dtype: int64"
      ]
     },
     "execution_count": 98,
     "metadata": {},
     "output_type": "execute_result"
    }
   ],
   "source": [
    "apartment[apartment.bathrooms > 2].location.value_counts()"
   ]
  }
 ],
 "metadata": {
  "kernelspec": {
   "display_name": "Python 3",
   "language": "python",
   "name": "python3"
  },
  "language_info": {
   "codemirror_mode": {
    "name": "ipython",
    "version": 3
   },
   "file_extension": ".py",
   "mimetype": "text/x-python",
   "name": "python",
   "nbconvert_exporter": "python",
   "pygments_lexer": "ipython3",
   "version": "3.10.10"
  },
  "orig_nbformat": 4,
  "vscode": {
   "interpreter": {
    "hash": "b6dd42cfe7ed496cb02396fdf007608ce5cd5a6b22b6e4c7a9144d5600e5b039"
   }
  }
 },
 "nbformat": 4,
 "nbformat_minor": 2
}
