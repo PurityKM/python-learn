{
 "cells": [
  {
   "attachments": {},
   "cell_type": "markdown",
   "metadata": {},
   "source": [
    "### <span style=\"color: violet;\">Car Details 1945-2020</span>"
   ]
  },
  {
   "cell_type": "code",
   "execution_count": 1,
   "metadata": {},
   "outputs": [],
   "source": [
    "import pandas as pd"
   ]
  },
  {
   "cell_type": "code",
   "execution_count": 7,
   "metadata": {},
   "outputs": [
    {
     "data": {
      "text/html": [
       "<div>\n",
       "<style scoped>\n",
       "    .dataframe tbody tr th:only-of-type {\n",
       "        vertical-align: middle;\n",
       "    }\n",
       "\n",
       "    .dataframe tbody tr th {\n",
       "        vertical-align: top;\n",
       "    }\n",
       "\n",
       "    .dataframe thead th {\n",
       "        text-align: right;\n",
       "    }\n",
       "</style>\n",
       "<table border=\"1\" class=\"dataframe\">\n",
       "  <thead>\n",
       "    <tr style=\"text-align: right;\">\n",
       "      <th></th>\n",
       "      <th>id_trim</th>\n",
       "      <th>Make</th>\n",
       "      <th>Modle</th>\n",
       "      <th>Generation</th>\n",
       "      <th>Year_from</th>\n",
       "      <th>Year_to</th>\n",
       "      <th>Series</th>\n",
       "      <th>Trim</th>\n",
       "      <th>Body_type</th>\n",
       "      <th>load_height_mm</th>\n",
       "      <th>...</th>\n",
       "      <th>front_suspension</th>\n",
       "      <th>steering_type</th>\n",
       "      <th>car_class</th>\n",
       "      <th>country_of_origin</th>\n",
       "      <th>number_of_doors</th>\n",
       "      <th>safety_assessment</th>\n",
       "      <th>rating_name</th>\n",
       "      <th>battery_capacity_KW_per_h</th>\n",
       "      <th>electric_range_km</th>\n",
       "      <th>charging_time_h</th>\n",
       "    </tr>\n",
       "  </thead>\n",
       "  <tbody>\n",
       "    <tr>\n",
       "      <th>0</th>\n",
       "      <td>1</td>\n",
       "      <td>AC</td>\n",
       "      <td>ACE</td>\n",
       "      <td>1 generation</td>\n",
       "      <td>1993.0</td>\n",
       "      <td>2000.0</td>\n",
       "      <td>Cabriolet</td>\n",
       "      <td>3.5 MT</td>\n",
       "      <td>Cabriolet</td>\n",
       "      <td>NaN</td>\n",
       "      <td>...</td>\n",
       "      <td>Helical springs</td>\n",
       "      <td>NaN</td>\n",
       "      <td>NaN</td>\n",
       "      <td>NaN</td>\n",
       "      <td>NaN</td>\n",
       "      <td>NaN</td>\n",
       "      <td>NaN</td>\n",
       "      <td>NaN</td>\n",
       "      <td>NaN</td>\n",
       "      <td>NaN</td>\n",
       "    </tr>\n",
       "    <tr>\n",
       "      <th>1</th>\n",
       "      <td>2</td>\n",
       "      <td>AC</td>\n",
       "      <td>ACE</td>\n",
       "      <td>1 generation</td>\n",
       "      <td>1993.0</td>\n",
       "      <td>2000.0</td>\n",
       "      <td>Cabriolet</td>\n",
       "      <td>4.6 MT</td>\n",
       "      <td>Cabriolet</td>\n",
       "      <td>NaN</td>\n",
       "      <td>...</td>\n",
       "      <td>Helical springs</td>\n",
       "      <td>NaN</td>\n",
       "      <td>NaN</td>\n",
       "      <td>NaN</td>\n",
       "      <td>NaN</td>\n",
       "      <td>NaN</td>\n",
       "      <td>NaN</td>\n",
       "      <td>NaN</td>\n",
       "      <td>NaN</td>\n",
       "      <td>NaN</td>\n",
       "    </tr>\n",
       "    <tr>\n",
       "      <th>2</th>\n",
       "      <td>3</td>\n",
       "      <td>AC</td>\n",
       "      <td>ACE</td>\n",
       "      <td>1 generation</td>\n",
       "      <td>1993.0</td>\n",
       "      <td>2000.0</td>\n",
       "      <td>Cabriolet</td>\n",
       "      <td>4.9 AT</td>\n",
       "      <td>Cabriolet</td>\n",
       "      <td>NaN</td>\n",
       "      <td>...</td>\n",
       "      <td>Helical springs</td>\n",
       "      <td>NaN</td>\n",
       "      <td>NaN</td>\n",
       "      <td>NaN</td>\n",
       "      <td>NaN</td>\n",
       "      <td>NaN</td>\n",
       "      <td>NaN</td>\n",
       "      <td>NaN</td>\n",
       "      <td>NaN</td>\n",
       "      <td>NaN</td>\n",
       "    </tr>\n",
       "    <tr>\n",
       "      <th>3</th>\n",
       "      <td>4</td>\n",
       "      <td>AC</td>\n",
       "      <td>ACE</td>\n",
       "      <td>1 generation</td>\n",
       "      <td>1993.0</td>\n",
       "      <td>2000.0</td>\n",
       "      <td>Roadster</td>\n",
       "      <td>2.9 AT</td>\n",
       "      <td>NaN</td>\n",
       "      <td>NaN</td>\n",
       "      <td>...</td>\n",
       "      <td>NaN</td>\n",
       "      <td>NaN</td>\n",
       "      <td>NaN</td>\n",
       "      <td>NaN</td>\n",
       "      <td>NaN</td>\n",
       "      <td>NaN</td>\n",
       "      <td>NaN</td>\n",
       "      <td>NaN</td>\n",
       "      <td>NaN</td>\n",
       "      <td>NaN</td>\n",
       "    </tr>\n",
       "  </tbody>\n",
       "</table>\n",
       "<p>4 rows × 78 columns</p>\n",
       "</div>"
      ],
      "text/plain": [
       "   id_trim Make Modle    Generation  Year_from  Year_to     Series    Trim  \\\n",
       "0        1   AC   ACE  1 generation     1993.0   2000.0  Cabriolet  3.5 MT   \n",
       "1        2   AC   ACE  1 generation     1993.0   2000.0  Cabriolet  4.6 MT   \n",
       "2        3   AC   ACE  1 generation     1993.0   2000.0  Cabriolet  4.9 AT   \n",
       "3        4   AC   ACE  1 generation     1993.0   2000.0   Roadster  2.9 AT   \n",
       "\n",
       "   Body_type load_height_mm  ... front_suspension steering_type car_class  \\\n",
       "0  Cabriolet            NaN  ...  Helical springs           NaN       NaN   \n",
       "1  Cabriolet            NaN  ...  Helical springs           NaN       NaN   \n",
       "2  Cabriolet            NaN  ...  Helical springs           NaN       NaN   \n",
       "3        NaN            NaN  ...              NaN           NaN       NaN   \n",
       "\n",
       "  country_of_origin number_of_doors safety_assessment rating_name  \\\n",
       "0               NaN             NaN               NaN         NaN   \n",
       "1               NaN             NaN               NaN         NaN   \n",
       "2               NaN             NaN               NaN         NaN   \n",
       "3               NaN             NaN               NaN         NaN   \n",
       "\n",
       "  battery_capacity_KW_per_h electric_range_km charging_time_h  \n",
       "0                       NaN               NaN             NaN  \n",
       "1                       NaN               NaN             NaN  \n",
       "2                       NaN               NaN             NaN  \n",
       "3                       NaN               NaN             NaN  \n",
       "\n",
       "[4 rows x 78 columns]"
      ]
     },
     "execution_count": 7,
     "metadata": {},
     "output_type": "execute_result"
    }
   ],
   "source": [
    "car_details = pd.read_csv(\"data/Car Dataset 1945-2020.csv\", low_memory=False)\n",
    "car_details.head(4)"
   ]
  },
  {
   "cell_type": "code",
   "execution_count": 8,
   "metadata": {},
   "outputs": [
    {
     "data": {
      "text/plain": [
       "(70823, 78)"
      ]
     },
     "execution_count": 8,
     "metadata": {},
     "output_type": "execute_result"
    }
   ],
   "source": [
    "car_details.shape"
   ]
  },
  {
   "cell_type": "code",
   "execution_count": 11,
   "metadata": {},
   "outputs": [
    {
     "data": {
      "text/plain": [
       "Index(['id_trim', 'Make', 'Modle', 'Generation', 'Year_from', 'Year_to',\n",
       "       'Series', 'Trim', 'Body_type', 'load_height_mm', 'number_of_seats',\n",
       "       'length_mm', 'width_mm', 'height_mm', 'wheelbase_mm', 'front_track_mm',\n",
       "       'rear_track_mm', 'curb_weight_kg', 'wheel_size_r14',\n",
       "       'ground_clearance_mm', 'trailer_load_with_brakes_kg', 'payload_kg',\n",
       "       'back_track_width_mm', 'front_track_width_mm', 'clearance_mm',\n",
       "       'full_weight_kg', 'front_rear_axle_load_kg', 'max_trunk_capacity_l',\n",
       "       'cargo_compartment_length_width_height_mm', 'cargo_volume_m3',\n",
       "       'minimum_trunk_capacity_l', 'maximum_torque_n_m', 'injection_type',\n",
       "       'overhead_camshaft', 'cylinder_layout', 'number_of_cylinders',\n",
       "       'compression_ratio', 'engine_type', 'valves_per_cylinder', 'boost_type',\n",
       "       'cylinder_bore_mm', 'stroke_cycle_mm', 'engine_placement',\n",
       "       'cylinder_bore_and_stroke_cycle_mm', 'turnover_of_maximum_torque_rpm',\n",
       "       'max_power_kw', 'presence_of_intercooler', 'capacity_cm3', 'engine_hp',\n",
       "       'engine_hp_rpm', 'drive_wheels', 'bore_stroke_ratio', 'number_of_gears',\n",
       "       'turning_circle_m', 'transmission',\n",
       "       'mixed_fuel_consumption_per_100_km_l', 'range_km', 'emission_standards',\n",
       "       'fuel_tank_capacity_l', 'acceleration_0_100_km/h_s',\n",
       "       'max_speed_km_per_h', 'city_fuel_per_100km_l', 'CO2_emissions_g/km',\n",
       "       'fuel_grade', 'highway_fuel_per_100km_l', 'back_suspension',\n",
       "       'rear_brakes', 'front_brakes', 'front_suspension', 'steering_type',\n",
       "       'car_class', 'country_of_origin', 'number_of_doors',\n",
       "       'safety_assessment', 'rating_name', 'battery_capacity_KW_per_h',\n",
       "       'electric_range_km', 'charging_time_h'],\n",
       "      dtype='object')"
      ]
     },
     "execution_count": 11,
     "metadata": {},
     "output_type": "execute_result"
    }
   ],
   "source": [
    "car_details.columns"
   ]
  },
  {
   "cell_type": "code",
   "execution_count": 12,
   "metadata": {},
   "outputs": [
    {
     "data": {
      "text/plain": [
       "id_trim                          0\n",
       "Make                             0\n",
       "Modle                            0\n",
       "Generation                       4\n",
       "Year_from                      237\n",
       "                             ...  \n",
       "safety_assessment            69811\n",
       "rating_name                  69811\n",
       "battery_capacity_KW_per_h    70808\n",
       "electric_range_km            70808\n",
       "charging_time_h              70816\n",
       "Length: 78, dtype: int64"
      ]
     },
     "execution_count": 12,
     "metadata": {},
     "output_type": "execute_result"
    }
   ],
   "source": [
    "car_details.isnull().sum()"
   ]
  },
  {
   "cell_type": "code",
   "execution_count": 13,
   "metadata": {},
   "outputs": [],
   "source": [
    "import seaborn as sns\n",
    "import matplotlib.pyplot as plt"
   ]
  },
  {
   "cell_type": "code",
   "execution_count": 15,
   "metadata": {},
   "outputs": [
    {
     "data": {
      "image/png": "[encoded data removed]",
      "text/plain": [
       "<Figure size 432x288 with 2 Axes>"
      ]
     },
     "metadata": {
      "needs_background": "light"
     },
     "output_type": "display_data"
    }
   ],
   "source": [
    "sns.heatmap(car_details.isnull())\n",
    "plt.show()"
   ]
  }
 ],
 "metadata": {
  "kernelspec": {
   "display_name": "Python 3",
   "language": "python",
   "name": "python3"
  },
  "language_info": {
   "codemirror_mode": {
    "name": "ipython",
    "version": 3
   },
   "file_extension": ".py",
   "mimetype": "text/x-python",
   "name": "python",
   "nbconvert_exporter": "python",
   "pygments_lexer": "ipython3",
   "version": "3.10.10"
  },
  "orig_nbformat": 4,
  "vscode": {
   "interpreter": {
    "hash": "b6dd42cfe7ed496cb02396fdf007608ce5cd5a6b22b6e4c7a9144d5600e5b039"
   }
  }
 },
 "nbformat": 4,
 "nbformat_minor": 2
}
